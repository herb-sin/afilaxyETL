{
 "cells": [
  {
   "cell_type": "code",
   "execution_count": 1,
   "id": "52b48d56-d08d-402f-a0c7-109e7e872d31",
   "metadata": {},
   "outputs": [
    {
     "name": "stdout",
     "output_type": "stream",
     "text": [
      "/home/afilaxy\n"
     ]
    }
   ],
   "source": [
    "import os\n",
    "\n",
    "caminho_atual = os.getcwd()\n",
    "print(caminho_atual)"
   ]
  },
  {
   "cell_type": "code",
   "execution_count": null,
   "id": "a388d068-7473-4aa7-b5b4-ac4b1dbd9b55",
   "metadata": {},
   "outputs": [],
   "source": [
    "#importando as ferramentas\n",
    "import pandas as pd\n",
    "import numpy as np"
   ]
  },
  {
   "cell_type": "code",
   "execution_count": null,
   "id": "0d395d06-17b3-4cd0-a4a9-2eaa3867c50b",
   "metadata": {},
   "outputs": [],
   "source": [
    "# Define o caminho para o arquivo CSV, nesse caso deve se encontrar na mesma pasta\n",
    "file_path = 'subscribed_email_audience_export_efc265c2ef.csv'\n",
    "\n",
    "# Carrega o arquivo CSV\n",
    "df = pd.read_csv(file_path)"
   ]
  },
  {
   "cell_type": "code",
   "execution_count": null,
   "id": "0ce175ff-26e2-4660-9766-7f332bc252ed",
   "metadata": {},
   "outputs": [],
   "source": [
    "#checar tipos de dados e a contagem de valores nulos\n",
    "print(\"Informações do DataFrame original:\")\n",
    "df.info()\n",
    "\n",
    "print(\"\\nPrimeiras 5 linhas do DataFrame original:\")\n",
    "df.head()"
   ]
  },
  {
   "cell_type": "code",
   "execution_count": null,
   "id": "7fe792db-c0e0-4ae9-845b-79f5194fecdc",
   "metadata": {},
   "outputs": [],
   "source": [
    "# Preenche valores ausentes (NaN) com um texto vazio em Nomes e Telefone\n",
    "df[['FIRST_NAME', 'LAST_NAME', 'PHONE_NUMBER']] = df[['FIRST_NAME', 'LAST_NAME', 'PHONE_NUMBER']].fillna('')\n",
    "\n",
    "# Padroniza a coluna de Nomes (remove espaços e aplica formato de título)\n",
    "df['FIRST_NAME'] = df['FIRST_NAME'].str.strip().str.title()\n",
    "df['LAST_NAME'] = df['LAST_NAME'].str.strip().str.title()\n",
    "\n",
    "# Remove caracteres não numéricos da coluna de Telefone\n",
    "df['PHONE_NUMBER'] = df['PHONE_NUMBER'].str.replace(r'\\D', '', regex=True)"
   ]
  },
  {
   "cell_type": "code",
   "execution_count": null,
   "id": "d6dd4f95-0647-4d2a-8f69-37b7520d678e",
   "metadata": {},
   "outputs": [],
   "source": [
    "# Converte a coluna 'CREATED_AT' para o tipo datetime\n",
    "df['CREATED_AT'] = pd.to_datetime(df['CREATED_AT'], errors='coerce')"
   ]
  },
  {
   "cell_type": "code",
   "execution_count": null,
   "id": "902d12ca-0f9e-4741-b84d-7c2aa744fc5e",
   "metadata": {},
   "outputs": [],
   "source": [
    "print(\"Informações do DataFrame após a limpeza:\")\n",
    "df.info()\n",
    "\n",
    "print(\"\\nPrimeiras 5 linhas do DataFrame após a limpeza:\")\n",
    "df.head()"
   ]
  },
  {
   "cell_type": "code",
   "execution_count": null,
   "id": "17a3981e-3475-459b-a902-4716ae0b1e77",
   "metadata": {},
   "outputs": [],
   "source": [
    "# df.to_csv('audience_cleaned.csv', index=False)"
   ]
  }
 ],
 "metadata": {
  "kernelspec": {
   "display_name": "Python 3 (ipykernel)",
   "language": "python",
   "name": "python3"
  },
  "language_info": {
   "codemirror_mode": {
    "name": "ipython",
    "version": 3
   },
   "file_extension": ".py",
   "mimetype": "text/x-python",
   "name": "python",
   "nbconvert_exporter": "python",
   "pygments_lexer": "ipython3",
   "version": "3.10.18"
  }
 },
 "nbformat": 4,
 "nbformat_minor": 5
}
